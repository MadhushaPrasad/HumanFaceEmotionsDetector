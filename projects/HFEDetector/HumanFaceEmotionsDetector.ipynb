{
 "cells": [
  {
   "cell_type": "markdown",
   "id": "06013c40-888a-489e-9bb3-93ba107e5294",
   "metadata": {
    "tags": []
   },
   "source": [
    "# 1. Check Dependencies are Installed in our venv"
   ]
  },
  {
   "cell_type": "code",
   "execution_count": 12,
   "id": "ec855844-57f1-40c3-8f39-03992c9122d2",
   "metadata": {
    "tags": []
   },
   "outputs": [
    {
     "name": "stdout",
     "output_type": "stream",
     "text": [
      "Package                      Version\n",
      "---------------------------- ---------\n",
      "absl-py                      2.0.0\n",
      "asttokens                    2.4.0\n",
      "astunparse                   1.6.3\n",
      "backcall                     0.2.0\n",
      "cachetools                   5.3.1\n",
      "certifi                      2023.7.22\n",
      "charset-normalizer           3.2.0\n",
      "colorama                     0.4.6\n",
      "comm                         0.1.4\n",
      "contourpy                    1.1.1\n",
      "cycler                       0.11.0\n",
      "debugpy                      1.8.0\n",
      "decorator                    5.1.1\n",
      "exceptiongroup               1.1.3\n",
      "executing                    1.2.0\n",
      "flatbuffers                  23.5.26\n",
      "fonttools                    4.42.1\n",
      "gast                         0.4.0\n",
      "google-auth                  2.23.1\n",
      "google-auth-oauthlib         0.4.6\n",
      "google-pasta                 0.2.0\n",
      "grpcio                       1.58.0\n",
      "h5py                         3.9.0\n",
      "idna                         3.4\n",
      "importlib-metadata           6.8.0\n",
      "importlib-resources          6.1.0\n",
      "ipykernel                    6.25.2\n",
      "ipython                      8.15.0\n",
      "jedi                         0.19.0\n",
      "jupyter_client               8.3.1\n",
      "jupyter_core                 5.3.1\n",
      "keras                        2.10.0\n",
      "Keras-Preprocessing          1.1.2\n",
      "kiwisolver                   1.4.5\n",
      "libclang                     16.0.6\n",
      "Markdown                     3.4.4\n",
      "MarkupSafe                   2.1.3\n",
      "matplotlib                   3.8.0\n",
      "matplotlib-inline            0.1.6\n",
      "nest-asyncio                 1.5.8\n",
      "numpy                        1.26.0\n",
      "oauthlib                     3.2.2\n",
      "opencv-python                4.8.0.76\n",
      "opt-einsum                   3.3.0\n",
      "packaging                    23.1\n",
      "parso                        0.8.3\n",
      "pickleshare                  0.7.5\n",
      "Pillow                       10.0.1\n",
      "pip                          23.2.1\n",
      "platformdirs                 3.10.0\n",
      "prompt-toolkit               3.0.39\n",
      "protobuf                     3.19.6\n",
      "psutil                       5.9.5\n",
      "pure-eval                    0.2.2\n",
      "pyasn1                       0.5.0\n",
      "pyasn1-modules               0.3.0\n",
      "Pygments                     2.16.1\n",
      "pyparsing                    3.1.1\n",
      "python-dateutil              2.8.2\n",
      "pywin32                      306\n",
      "pyzmq                        25.1.1\n",
      "requests                     2.31.0\n",
      "requests-oauthlib            1.3.1\n",
      "rsa                          4.9\n",
      "setuptools                   68.0.0\n",
      "six                          1.16.0\n",
      "stack-data                   0.6.2\n",
      "tensorboard                  2.10.1\n",
      "tensorboard-data-server      0.6.1\n",
      "tensorboard-plugin-wit       1.8.1\n",
      "tensorflow                   2.10.1\n",
      "tensorflow-estimator         2.10.0\n",
      "tensorflow-io-gcs-filesystem 0.31.0\n",
      "termcolor                    2.3.0\n",
      "tornado                      6.3.3\n",
      "traitlets                    5.10.1\n",
      "typing_extensions            4.8.0\n",
      "urllib3                      2.0.5\n",
      "wcwidth                      0.2.6\n",
      "Werkzeug                     2.3.7\n",
      "wheel                        0.41.2\n",
      "wrapt                        1.15.0\n",
      "zipp                         3.17.0\n"
     ]
    }
   ],
   "source": [
    "!pip list #check list of Dependencies"
   ]
  },
  {
   "cell_type": "markdown",
   "id": "25c50e51-67e6-429b-9824-80f3e8f48d61",
   "metadata": {
    "tags": []
   },
   "source": [
    "# 1. Install Dependencies and Setup"
   ]
  },
  {
   "cell_type": "code",
   "execution_count": 5,
   "id": "643daf80-a149-429e-8195-2b8ef63d7d7e",
   "metadata": {},
   "outputs": [
    {
     "name": "stdout",
     "output_type": "stream",
     "text": [
      "Requirement already satisfied: tensorflow in c:\\users\\madhushaprasad\\anaconda3\\envs\\imageclass\\lib\\site-packages (2.10.1)\n",
      "Requirement already satisfied: opencv-python in c:\\users\\madhushaprasad\\anaconda3\\envs\\imageclass\\lib\\site-packages (4.8.0.76)\n",
      "Requirement already satisfied: matplotlib in c:\\users\\madhushaprasad\\anaconda3\\envs\\imageclass\\lib\\site-packages (3.8.0)\n",
      "Requirement already satisfied: absl-py>=1.0.0 in c:\\users\\madhushaprasad\\anaconda3\\envs\\imageclass\\lib\\site-packages (from tensorflow) (2.0.0)\n",
      "Requirement already satisfied: astunparse>=1.6.0 in c:\\users\\madhushaprasad\\anaconda3\\envs\\imageclass\\lib\\site-packages (from tensorflow) (1.6.3)\n",
      "Requirement already satisfied: flatbuffers>=2.0 in c:\\users\\madhushaprasad\\anaconda3\\envs\\imageclass\\lib\\site-packages (from tensorflow) (23.5.26)\n",
      "Requirement already satisfied: gast<=0.4.0,>=0.2.1 in c:\\users\\madhushaprasad\\anaconda3\\envs\\imageclass\\lib\\site-packages (from tensorflow) (0.4.0)\n",
      "Requirement already satisfied: google-pasta>=0.1.1 in c:\\users\\madhushaprasad\\anaconda3\\envs\\imageclass\\lib\\site-packages (from tensorflow) (0.2.0)\n",
      "Requirement already satisfied: h5py>=2.9.0 in c:\\users\\madhushaprasad\\anaconda3\\envs\\imageclass\\lib\\site-packages (from tensorflow) (3.9.0)\n",
      "Requirement already satisfied: keras-preprocessing>=1.1.1 in c:\\users\\madhushaprasad\\anaconda3\\envs\\imageclass\\lib\\site-packages (from tensorflow) (1.1.2)\n",
      "Requirement already satisfied: libclang>=13.0.0 in c:\\users\\madhushaprasad\\anaconda3\\envs\\imageclass\\lib\\site-packages (from tensorflow) (16.0.6)\n",
      "Requirement already satisfied: numpy>=1.20 in c:\\users\\madhushaprasad\\anaconda3\\envs\\imageclass\\lib\\site-packages (from tensorflow) (1.26.0)\n",
      "Requirement already satisfied: opt-einsum>=2.3.2 in c:\\users\\madhushaprasad\\anaconda3\\envs\\imageclass\\lib\\site-packages (from tensorflow) (3.3.0)\n",
      "Requirement already satisfied: packaging in c:\\users\\madhushaprasad\\anaconda3\\envs\\imageclass\\lib\\site-packages (from tensorflow) (23.1)\n",
      "Requirement already satisfied: protobuf<3.20,>=3.9.2 in c:\\users\\madhushaprasad\\anaconda3\\envs\\imageclass\\lib\\site-packages (from tensorflow) (3.19.6)\n",
      "Requirement already satisfied: setuptools in c:\\users\\madhushaprasad\\anaconda3\\envs\\imageclass\\lib\\site-packages (from tensorflow) (68.0.0)\n",
      "Requirement already satisfied: six>=1.12.0 in c:\\users\\madhushaprasad\\anaconda3\\envs\\imageclass\\lib\\site-packages (from tensorflow) (1.16.0)\n",
      "Requirement already satisfied: termcolor>=1.1.0 in c:\\users\\madhushaprasad\\anaconda3\\envs\\imageclass\\lib\\site-packages (from tensorflow) (2.3.0)\n",
      "Requirement already satisfied: typing-extensions>=3.6.6 in c:\\users\\madhushaprasad\\anaconda3\\envs\\imageclass\\lib\\site-packages (from tensorflow) (4.8.0)\n",
      "Requirement already satisfied: wrapt>=1.11.0 in c:\\users\\madhushaprasad\\anaconda3\\envs\\imageclass\\lib\\site-packages (from tensorflow) (1.15.0)\n",
      "Requirement already satisfied: tensorflow-io-gcs-filesystem>=0.23.1 in c:\\users\\madhushaprasad\\anaconda3\\envs\\imageclass\\lib\\site-packages (from tensorflow) (0.31.0)\n",
      "Requirement already satisfied: grpcio<2.0,>=1.24.3 in c:\\users\\madhushaprasad\\anaconda3\\envs\\imageclass\\lib\\site-packages (from tensorflow) (1.58.0)\n",
      "Requirement already satisfied: tensorboard<2.11,>=2.10 in c:\\users\\madhushaprasad\\anaconda3\\envs\\imageclass\\lib\\site-packages (from tensorflow) (2.10.1)\n",
      "Requirement already satisfied: tensorflow-estimator<2.11,>=2.10.0 in c:\\users\\madhushaprasad\\anaconda3\\envs\\imageclass\\lib\\site-packages (from tensorflow) (2.10.0)\n",
      "Requirement already satisfied: keras<2.11,>=2.10.0 in c:\\users\\madhushaprasad\\anaconda3\\envs\\imageclass\\lib\\site-packages (from tensorflow) (2.10.0)\n",
      "Requirement already satisfied: contourpy>=1.0.1 in c:\\users\\madhushaprasad\\anaconda3\\envs\\imageclass\\lib\\site-packages (from matplotlib) (1.1.1)\n",
      "Requirement already satisfied: cycler>=0.10 in c:\\users\\madhushaprasad\\anaconda3\\envs\\imageclass\\lib\\site-packages (from matplotlib) (0.11.0)\n",
      "Requirement already satisfied: fonttools>=4.22.0 in c:\\users\\madhushaprasad\\anaconda3\\envs\\imageclass\\lib\\site-packages (from matplotlib) (4.42.1)\n",
      "Requirement already satisfied: kiwisolver>=1.0.1 in c:\\users\\madhushaprasad\\anaconda3\\envs\\imageclass\\lib\\site-packages (from matplotlib) (1.4.5)\n",
      "Requirement already satisfied: pillow>=6.2.0 in c:\\users\\madhushaprasad\\anaconda3\\envs\\imageclass\\lib\\site-packages (from matplotlib) (10.0.1)\n",
      "Requirement already satisfied: pyparsing>=2.3.1 in c:\\users\\madhushaprasad\\anaconda3\\envs\\imageclass\\lib\\site-packages (from matplotlib) (3.1.1)\n",
      "Requirement already satisfied: python-dateutil>=2.7 in c:\\users\\madhushaprasad\\anaconda3\\envs\\imageclass\\lib\\site-packages (from matplotlib) (2.8.2)\n",
      "Requirement already satisfied: importlib-resources>=3.2.0 in c:\\users\\madhushaprasad\\anaconda3\\envs\\imageclass\\lib\\site-packages (from matplotlib) (6.1.0)\n",
      "Requirement already satisfied: wheel<1.0,>=0.23.0 in c:\\users\\madhushaprasad\\anaconda3\\envs\\imageclass\\lib\\site-packages (from astunparse>=1.6.0->tensorflow) (0.41.2)\n",
      "Requirement already satisfied: zipp>=3.1.0 in c:\\users\\madhushaprasad\\anaconda3\\envs\\imageclass\\lib\\site-packages (from importlib-resources>=3.2.0->matplotlib) (3.17.0)\n",
      "Requirement already satisfied: google-auth<3,>=1.6.3 in c:\\users\\madhushaprasad\\anaconda3\\envs\\imageclass\\lib\\site-packages (from tensorboard<2.11,>=2.10->tensorflow) (2.23.1)\n",
      "Requirement already satisfied: google-auth-oauthlib<0.5,>=0.4.1 in c:\\users\\madhushaprasad\\anaconda3\\envs\\imageclass\\lib\\site-packages (from tensorboard<2.11,>=2.10->tensorflow) (0.4.6)\n",
      "Requirement already satisfied: markdown>=2.6.8 in c:\\users\\madhushaprasad\\anaconda3\\envs\\imageclass\\lib\\site-packages (from tensorboard<2.11,>=2.10->tensorflow) (3.4.4)\n",
      "Requirement already satisfied: requests<3,>=2.21.0 in c:\\users\\madhushaprasad\\anaconda3\\envs\\imageclass\\lib\\site-packages (from tensorboard<2.11,>=2.10->tensorflow) (2.31.0)\n",
      "Requirement already satisfied: tensorboard-data-server<0.7.0,>=0.6.0 in c:\\users\\madhushaprasad\\anaconda3\\envs\\imageclass\\lib\\site-packages (from tensorboard<2.11,>=2.10->tensorflow) (0.6.1)\n",
      "Requirement already satisfied: tensorboard-plugin-wit>=1.6.0 in c:\\users\\madhushaprasad\\anaconda3\\envs\\imageclass\\lib\\site-packages (from tensorboard<2.11,>=2.10->tensorflow) (1.8.1)\n",
      "Requirement already satisfied: werkzeug>=1.0.1 in c:\\users\\madhushaprasad\\anaconda3\\envs\\imageclass\\lib\\site-packages (from tensorboard<2.11,>=2.10->tensorflow) (2.3.7)\n",
      "Requirement already satisfied: cachetools<6.0,>=2.0.0 in c:\\users\\madhushaprasad\\anaconda3\\envs\\imageclass\\lib\\site-packages (from google-auth<3,>=1.6.3->tensorboard<2.11,>=2.10->tensorflow) (5.3.1)\n",
      "Requirement already satisfied: pyasn1-modules>=0.2.1 in c:\\users\\madhushaprasad\\anaconda3\\envs\\imageclass\\lib\\site-packages (from google-auth<3,>=1.6.3->tensorboard<2.11,>=2.10->tensorflow) (0.3.0)\n",
      "Requirement already satisfied: rsa<5,>=3.1.4 in c:\\users\\madhushaprasad\\anaconda3\\envs\\imageclass\\lib\\site-packages (from google-auth<3,>=1.6.3->tensorboard<2.11,>=2.10->tensorflow) (4.9)\n",
      "Requirement already satisfied: urllib3>=2.0.5 in c:\\users\\madhushaprasad\\anaconda3\\envs\\imageclass\\lib\\site-packages (from google-auth<3,>=1.6.3->tensorboard<2.11,>=2.10->tensorflow) (2.0.5)\n",
      "Requirement already satisfied: requests-oauthlib>=0.7.0 in c:\\users\\madhushaprasad\\anaconda3\\envs\\imageclass\\lib\\site-packages (from google-auth-oauthlib<0.5,>=0.4.1->tensorboard<2.11,>=2.10->tensorflow) (1.3.1)\n",
      "Requirement already satisfied: importlib-metadata>=4.4 in c:\\users\\madhushaprasad\\anaconda3\\envs\\imageclass\\lib\\site-packages (from markdown>=2.6.8->tensorboard<2.11,>=2.10->tensorflow) (6.8.0)\n",
      "Requirement already satisfied: charset-normalizer<4,>=2 in c:\\users\\madhushaprasad\\anaconda3\\envs\\imageclass\\lib\\site-packages (from requests<3,>=2.21.0->tensorboard<2.11,>=2.10->tensorflow) (3.2.0)\n",
      "Requirement already satisfied: idna<4,>=2.5 in c:\\users\\madhushaprasad\\anaconda3\\envs\\imageclass\\lib\\site-packages (from requests<3,>=2.21.0->tensorboard<2.11,>=2.10->tensorflow) (3.4)\n",
      "Requirement already satisfied: certifi>=2017.4.17 in c:\\users\\madhushaprasad\\anaconda3\\envs\\imageclass\\lib\\site-packages (from requests<3,>=2.21.0->tensorboard<2.11,>=2.10->tensorflow) (2023.7.22)\n",
      "Requirement already satisfied: MarkupSafe>=2.1.1 in c:\\users\\madhushaprasad\\anaconda3\\envs\\imageclass\\lib\\site-packages (from werkzeug>=1.0.1->tensorboard<2.11,>=2.10->tensorflow) (2.1.3)\n",
      "Requirement already satisfied: pyasn1<0.6.0,>=0.4.6 in c:\\users\\madhushaprasad\\anaconda3\\envs\\imageclass\\lib\\site-packages (from pyasn1-modules>=0.2.1->google-auth<3,>=1.6.3->tensorboard<2.11,>=2.10->tensorflow) (0.5.0)\n",
      "Requirement already satisfied: oauthlib>=3.0.0 in c:\\users\\madhushaprasad\\anaconda3\\envs\\imageclass\\lib\\site-packages (from requests-oauthlib>=0.7.0->google-auth-oauthlib<0.5,>=0.4.1->tensorboard<2.11,>=2.10->tensorflow) (3.2.2)\n"
     ]
    }
   ],
   "source": [
    "!pip install tensorflow opencv-python matplotlib"
   ]
  },
  {
   "cell_type": "code",
   "execution_count": 13,
   "id": "6482f55f-a00e-48b8-9961-e177c487a6fb",
   "metadata": {
    "tags": []
   },
   "outputs": [
    {
     "name": "stdout",
     "output_type": "stream",
     "text": [
      "Package                      Version\n",
      "---------------------------- ---------\n",
      "absl-py                      2.0.0\n",
      "asttokens                    2.4.0\n",
      "astunparse                   1.6.3\n",
      "backcall                     0.2.0\n",
      "cachetools                   5.3.1\n",
      "certifi                      2023.7.22\n",
      "charset-normalizer           3.2.0\n",
      "colorama                     0.4.6\n",
      "comm                         0.1.4\n",
      "contourpy                    1.1.1\n",
      "cycler                       0.11.0\n",
      "debugpy                      1.8.0\n",
      "decorator                    5.1.1\n",
      "exceptiongroup               1.1.3\n",
      "executing                    1.2.0\n",
      "flatbuffers                  23.5.26\n",
      "fonttools                    4.42.1\n",
      "gast                         0.4.0\n",
      "google-auth                  2.23.1\n",
      "google-auth-oauthlib         0.4.6\n",
      "google-pasta                 0.2.0\n",
      "grpcio                       1.58.0\n",
      "h5py                         3.9.0\n",
      "idna                         3.4\n",
      "importlib-metadata           6.8.0\n",
      "importlib-resources          6.1.0\n",
      "ipykernel                    6.25.2\n",
      "ipython                      8.15.0\n",
      "jedi                         0.19.0\n",
      "jupyter_client               8.3.1\n",
      "jupyter_core                 5.3.1\n",
      "keras                        2.10.0\n",
      "Keras-Preprocessing          1.1.2\n",
      "kiwisolver                   1.4.5\n",
      "libclang                     16.0.6\n",
      "Markdown                     3.4.4\n",
      "MarkupSafe                   2.1.3\n",
      "matplotlib                   3.8.0\n",
      "matplotlib-inline            0.1.6\n",
      "nest-asyncio                 1.5.8\n",
      "numpy                        1.26.0\n",
      "oauthlib                     3.2.2\n",
      "opencv-python                4.8.0.76\n",
      "opt-einsum                   3.3.0\n",
      "packaging                    23.1\n",
      "parso                        0.8.3\n",
      "pickleshare                  0.7.5\n",
      "Pillow                       10.0.1\n",
      "pip                          23.2.1\n",
      "platformdirs                 3.10.0\n",
      "prompt-toolkit               3.0.39\n",
      "protobuf                     3.19.6\n",
      "psutil                       5.9.5\n",
      "pure-eval                    0.2.2\n",
      "pyasn1                       0.5.0\n",
      "pyasn1-modules               0.3.0\n",
      "Pygments                     2.16.1\n",
      "pyparsing                    3.1.1\n",
      "python-dateutil              2.8.2\n",
      "pywin32                      306\n",
      "pyzmq                        25.1.1\n",
      "requests                     2.31.0\n",
      "requests-oauthlib            1.3.1\n",
      "rsa                          4.9\n",
      "setuptools                   68.0.0\n",
      "six                          1.16.0\n",
      "stack-data                   0.6.2\n",
      "tensorboard                  2.10.1\n",
      "tensorboard-data-server      0.6.1\n",
      "tensorboard-plugin-wit       1.8.1\n",
      "tensorflow                   2.10.1\n",
      "tensorflow-estimator         2.10.0\n",
      "tensorflow-io-gcs-filesystem 0.31.0\n",
      "termcolor                    2.3.0\n",
      "tornado                      6.3.3\n",
      "traitlets                    5.10.1\n",
      "typing_extensions            4.8.0\n",
      "urllib3                      2.0.5\n",
      "wcwidth                      0.2.6\n",
      "Werkzeug                     2.3.7\n",
      "wheel                        0.41.2\n",
      "wrapt                        1.15.0\n",
      "zipp                         3.17.0\n"
     ]
    }
   ],
   "source": [
    "!pip list #check list agin"
   ]
  },
  {
   "cell_type": "code",
   "execution_count": 7,
   "id": "cb9aba78-c403-460c-ba1a-9e717600c056",
   "metadata": {
    "tags": []
   },
   "outputs": [],
   "source": [
    "import tensorflow as tf #import tensorflow as tf\n",
    "import os #import os"
   ]
  },
  {
   "cell_type": "code",
   "execution_count": 18,
   "id": "eb53815c-c7bf-4e6f-9126-3da6a7414c7a",
   "metadata": {
    "tags": []
   },
   "outputs": [],
   "source": [
    "# Avoid OOM errors by setting GPU Memory Consumption Growth\n",
    "gpus = tf.config.experimental.list_physical_devices('GPU') # get all of physical GPU devices allowcated for tensaflow\n",
    "for gpu in gpus: \n",
    "    tf.config.experimental.set_memory_growth(gpu, True) # limit the GPU memory growth getting one by one from gpus"
   ]
  },
  {
   "cell_type": "code",
   "execution_count": 14,
   "id": "f9229609-f31b-46c6-8f6a-02af06dd3621",
   "metadata": {
    "tags": []
   },
   "outputs": [
    {
     "data": {
      "text/plain": [
       "[PhysicalDevice(name='/physical_device:GPU:0', device_type='GPU')]"
      ]
     },
     "execution_count": 14,
     "metadata": {},
     "output_type": "execute_result"
    }
   ],
   "source": [
    "tf.config.list_physical_devices('GPU') #check physical GPU devices"
   ]
  },
  {
   "cell_type": "markdown",
   "id": "0954553e-1335-4df5-8a54-6c4443d2eba2",
   "metadata": {},
   "source": [
    "# 2. Delete any questionable photos."
   ]
  },
  {
   "cell_type": "code",
   "execution_count": 15,
   "id": "a10ed408-1ba0-4cb3-87c6-684e52e10f98",
   "metadata": {
    "tags": []
   },
   "outputs": [],
   "source": [
    "import cv2\n",
    "import imghdr"
   ]
  },
  {
   "cell_type": "code",
   "execution_count": 16,
   "id": "907c94af-2f71-4531-87e6-b2192a4ea3e2",
   "metadata": {
    "tags": []
   },
   "outputs": [],
   "source": [
    "data_dir = '../data/' #give path of data folder"
   ]
  },
  {
   "cell_type": "code",
   "execution_count": 17,
   "id": "6a3aeb41-0bfb-4ee8-83d8-ac60da7d3bf3",
   "metadata": {
    "tags": []
   },
   "outputs": [],
   "source": [
    "image_exts = ['jpeg','jpg', 'bmp', 'png'] #store extentions of exist data types"
   ]
  },
  {
   "cell_type": "code",
   "execution_count": null,
   "id": "5c463132-623d-4499-a85d-35cda2191c75",
   "metadata": {},
   "outputs": [],
   "source": [
    "for image_class in os.listdir(data_dir): \n",
    "    for image in os.listdir(os.path.join(data_dir, image_class)):\n",
    "        image_path = os.path.join(data_dir, image_class, image)\n",
    "        try: \n",
    "            img = cv2.imread(image_path)\n",
    "            tip = imghdr.what(image_path)\n",
    "            if tip not in image_exts: \n",
    "                print('Image not in ext list {}'.format(image_path))\n",
    "                os.remove(image_path)\n",
    "        except Exception as e: \n",
    "            print('Issue with image {}'.format(image_path))\n",
    "            # os.remove(image_path)"
   ]
  }
 ],
 "metadata": {
  "kernelspec": {
   "display_name": "imageclass",
   "language": "python",
   "name": "imageclass"
  },
  "language_info": {
   "codemirror_mode": {
    "name": "ipython",
    "version": 3
   },
   "file_extension": ".py",
   "mimetype": "text/x-python",
   "name": "python",
   "nbconvert_exporter": "python",
   "pygments_lexer": "ipython3",
   "version": "3.9.18"
  }
 },
 "nbformat": 4,
 "nbformat_minor": 5
}
