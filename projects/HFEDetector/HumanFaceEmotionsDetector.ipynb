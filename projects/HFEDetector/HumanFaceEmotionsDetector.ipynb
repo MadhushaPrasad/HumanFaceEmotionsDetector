{
 "cells": [
  {
   "cell_type": "markdown",
   "id": "06013c40-888a-489e-9bb3-93ba107e5294",
   "metadata": {
    "tags": []
   },
   "source": [
    "# 1. Check Dependencies are Installed in our venv"
   ]
  },
  {
   "cell_type": "code",
   "execution_count": null,
   "id": "ec855844-57f1-40c3-8f39-03992c9122d2",
   "metadata": {
    "tags": []
   },
   "outputs": [],
   "source": [
    "!pip list #check list of Dependencies"
   ]
  },
  {
   "cell_type": "markdown",
   "id": "25c50e51-67e6-429b-9824-80f3e8f48d61",
   "metadata": {
    "tags": []
   },
   "source": [
    "# 1. Install Dependencies and Setup"
   ]
  },
  {
   "cell_type": "code",
   "execution_count": 1,
   "id": "643daf80-a149-429e-8195-2b8ef63d7d7e",
   "metadata": {},
   "outputs": [
    {
     "name": "stdout",
     "output_type": "stream",
     "text": [
      "Requirement already satisfied: tensorflow in c:\\users\\madhushaprasad\\anaconda3\\envs\\imageclass\\lib\\site-packages (2.10.1)\n",
      "Requirement already satisfied: opencv-python in c:\\users\\madhushaprasad\\anaconda3\\envs\\imageclass\\lib\\site-packages (4.8.0.76)\n",
      "Requirement already satisfied: matplotlib in c:\\users\\madhushaprasad\\anaconda3\\envs\\imageclass\\lib\\site-packages (3.8.0)\n",
      "Requirement already satisfied: absl-py>=1.0.0 in c:\\users\\madhushaprasad\\anaconda3\\envs\\imageclass\\lib\\site-packages (from tensorflow) (2.0.0)\n",
      "Requirement already satisfied: astunparse>=1.6.0 in c:\\users\\madhushaprasad\\anaconda3\\envs\\imageclass\\lib\\site-packages (from tensorflow) (1.6.3)\n",
      "Requirement already satisfied: flatbuffers>=2.0 in c:\\users\\madhushaprasad\\anaconda3\\envs\\imageclass\\lib\\site-packages (from tensorflow) (23.5.26)\n",
      "Requirement already satisfied: gast<=0.4.0,>=0.2.1 in c:\\users\\madhushaprasad\\anaconda3\\envs\\imageclass\\lib\\site-packages (from tensorflow) (0.4.0)\n",
      "Requirement already satisfied: google-pasta>=0.1.1 in c:\\users\\madhushaprasad\\anaconda3\\envs\\imageclass\\lib\\site-packages (from tensorflow) (0.2.0)\n",
      "Requirement already satisfied: h5py>=2.9.0 in c:\\users\\madhushaprasad\\anaconda3\\envs\\imageclass\\lib\\site-packages (from tensorflow) (3.9.0)\n",
      "Requirement already satisfied: keras-preprocessing>=1.1.1 in c:\\users\\madhushaprasad\\anaconda3\\envs\\imageclass\\lib\\site-packages (from tensorflow) (1.1.2)\n",
      "Requirement already satisfied: libclang>=13.0.0 in c:\\users\\madhushaprasad\\anaconda3\\envs\\imageclass\\lib\\site-packages (from tensorflow) (16.0.6)\n",
      "Requirement already satisfied: numpy>=1.20 in c:\\users\\madhushaprasad\\anaconda3\\envs\\imageclass\\lib\\site-packages (from tensorflow) (1.26.0)\n",
      "Requirement already satisfied: opt-einsum>=2.3.2 in c:\\users\\madhushaprasad\\anaconda3\\envs\\imageclass\\lib\\site-packages (from tensorflow) (3.3.0)\n",
      "Requirement already satisfied: packaging in c:\\users\\madhushaprasad\\anaconda3\\envs\\imageclass\\lib\\site-packages (from tensorflow) (23.1)\n",
      "Requirement already satisfied: protobuf<3.20,>=3.9.2 in c:\\users\\madhushaprasad\\anaconda3\\envs\\imageclass\\lib\\site-packages (from tensorflow) (3.19.6)\n",
      "Requirement already satisfied: setuptools in c:\\users\\madhushaprasad\\anaconda3\\envs\\imageclass\\lib\\site-packages (from tensorflow) (68.0.0)\n",
      "Requirement already satisfied: six>=1.12.0 in c:\\users\\madhushaprasad\\anaconda3\\envs\\imageclass\\lib\\site-packages (from tensorflow) (1.16.0)\n",
      "Requirement already satisfied: termcolor>=1.1.0 in c:\\users\\madhushaprasad\\anaconda3\\envs\\imageclass\\lib\\site-packages (from tensorflow) (2.3.0)\n",
      "Requirement already satisfied: typing-extensions>=3.6.6 in c:\\users\\madhushaprasad\\anaconda3\\envs\\imageclass\\lib\\site-packages (from tensorflow) (4.8.0)\n",
      "Requirement already satisfied: wrapt>=1.11.0 in c:\\users\\madhushaprasad\\anaconda3\\envs\\imageclass\\lib\\site-packages (from tensorflow) (1.15.0)\n",
      "Requirement already satisfied: tensorflow-io-gcs-filesystem>=0.23.1 in c:\\users\\madhushaprasad\\anaconda3\\envs\\imageclass\\lib\\site-packages (from tensorflow) (0.31.0)\n",
      "Requirement already satisfied: grpcio<2.0,>=1.24.3 in c:\\users\\madhushaprasad\\anaconda3\\envs\\imageclass\\lib\\site-packages (from tensorflow) (1.58.0)\n",
      "Requirement already satisfied: tensorboard<2.11,>=2.10 in c:\\users\\madhushaprasad\\anaconda3\\envs\\imageclass\\lib\\site-packages (from tensorflow) (2.10.1)\n",
      "Requirement already satisfied: tensorflow-estimator<2.11,>=2.10.0 in c:\\users\\madhushaprasad\\anaconda3\\envs\\imageclass\\lib\\site-packages (from tensorflow) (2.10.0)\n",
      "Requirement already satisfied: keras<2.11,>=2.10.0 in c:\\users\\madhushaprasad\\anaconda3\\envs\\imageclass\\lib\\site-packages (from tensorflow) (2.10.0)\n",
      "Requirement already satisfied: contourpy>=1.0.1 in c:\\users\\madhushaprasad\\anaconda3\\envs\\imageclass\\lib\\site-packages (from matplotlib) (1.1.1)\n",
      "Requirement already satisfied: cycler>=0.10 in c:\\users\\madhushaprasad\\anaconda3\\envs\\imageclass\\lib\\site-packages (from matplotlib) (0.11.0)\n",
      "Requirement already satisfied: fonttools>=4.22.0 in c:\\users\\madhushaprasad\\anaconda3\\envs\\imageclass\\lib\\site-packages (from matplotlib) (4.42.1)\n",
      "Requirement already satisfied: kiwisolver>=1.0.1 in c:\\users\\madhushaprasad\\anaconda3\\envs\\imageclass\\lib\\site-packages (from matplotlib) (1.4.5)\n",
      "Requirement already satisfied: pillow>=6.2.0 in c:\\users\\madhushaprasad\\anaconda3\\envs\\imageclass\\lib\\site-packages (from matplotlib) (10.0.1)\n",
      "Requirement already satisfied: pyparsing>=2.3.1 in c:\\users\\madhushaprasad\\anaconda3\\envs\\imageclass\\lib\\site-packages (from matplotlib) (3.1.1)\n",
      "Requirement already satisfied: python-dateutil>=2.7 in c:\\users\\madhushaprasad\\anaconda3\\envs\\imageclass\\lib\\site-packages (from matplotlib) (2.8.2)\n",
      "Requirement already satisfied: importlib-resources>=3.2.0 in c:\\users\\madhushaprasad\\anaconda3\\envs\\imageclass\\lib\\site-packages (from matplotlib) (6.1.0)\n",
      "Requirement already satisfied: wheel<1.0,>=0.23.0 in c:\\users\\madhushaprasad\\anaconda3\\envs\\imageclass\\lib\\site-packages (from astunparse>=1.6.0->tensorflow) (0.41.2)\n",
      "Requirement already satisfied: zipp>=3.1.0 in c:\\users\\madhushaprasad\\anaconda3\\envs\\imageclass\\lib\\site-packages (from importlib-resources>=3.2.0->matplotlib) (3.17.0)\n",
      "Requirement already satisfied: google-auth<3,>=1.6.3 in c:\\users\\madhushaprasad\\anaconda3\\envs\\imageclass\\lib\\site-packages (from tensorboard<2.11,>=2.10->tensorflow) (2.23.1)\n",
      "Requirement already satisfied: google-auth-oauthlib<0.5,>=0.4.1 in c:\\users\\madhushaprasad\\anaconda3\\envs\\imageclass\\lib\\site-packages (from tensorboard<2.11,>=2.10->tensorflow) (0.4.6)\n",
      "Requirement already satisfied: markdown>=2.6.8 in c:\\users\\madhushaprasad\\anaconda3\\envs\\imageclass\\lib\\site-packages (from tensorboard<2.11,>=2.10->tensorflow) (3.4.4)\n",
      "Requirement already satisfied: requests<3,>=2.21.0 in c:\\users\\madhushaprasad\\anaconda3\\envs\\imageclass\\lib\\site-packages (from tensorboard<2.11,>=2.10->tensorflow) (2.31.0)\n",
      "Requirement already satisfied: tensorboard-data-server<0.7.0,>=0.6.0 in c:\\users\\madhushaprasad\\anaconda3\\envs\\imageclass\\lib\\site-packages (from tensorboard<2.11,>=2.10->tensorflow) (0.6.1)\n",
      "Requirement already satisfied: tensorboard-plugin-wit>=1.6.0 in c:\\users\\madhushaprasad\\anaconda3\\envs\\imageclass\\lib\\site-packages (from tensorboard<2.11,>=2.10->tensorflow) (1.8.1)\n",
      "Requirement already satisfied: werkzeug>=1.0.1 in c:\\users\\madhushaprasad\\anaconda3\\envs\\imageclass\\lib\\site-packages (from tensorboard<2.11,>=2.10->tensorflow) (2.3.7)\n",
      "Requirement already satisfied: cachetools<6.0,>=2.0.0 in c:\\users\\madhushaprasad\\anaconda3\\envs\\imageclass\\lib\\site-packages (from google-auth<3,>=1.6.3->tensorboard<2.11,>=2.10->tensorflow) (5.3.1)\n",
      "Requirement already satisfied: pyasn1-modules>=0.2.1 in c:\\users\\madhushaprasad\\anaconda3\\envs\\imageclass\\lib\\site-packages (from google-auth<3,>=1.6.3->tensorboard<2.11,>=2.10->tensorflow) (0.3.0)\n",
      "Requirement already satisfied: rsa<5,>=3.1.4 in c:\\users\\madhushaprasad\\anaconda3\\envs\\imageclass\\lib\\site-packages (from google-auth<3,>=1.6.3->tensorboard<2.11,>=2.10->tensorflow) (4.9)\n",
      "Requirement already satisfied: urllib3>=2.0.5 in c:\\users\\madhushaprasad\\anaconda3\\envs\\imageclass\\lib\\site-packages (from google-auth<3,>=1.6.3->tensorboard<2.11,>=2.10->tensorflow) (2.0.5)\n",
      "Requirement already satisfied: requests-oauthlib>=0.7.0 in c:\\users\\madhushaprasad\\anaconda3\\envs\\imageclass\\lib\\site-packages (from google-auth-oauthlib<0.5,>=0.4.1->tensorboard<2.11,>=2.10->tensorflow) (1.3.1)\n",
      "Requirement already satisfied: importlib-metadata>=4.4 in c:\\users\\madhushaprasad\\anaconda3\\envs\\imageclass\\lib\\site-packages (from markdown>=2.6.8->tensorboard<2.11,>=2.10->tensorflow) (6.8.0)\n",
      "Requirement already satisfied: charset-normalizer<4,>=2 in c:\\users\\madhushaprasad\\anaconda3\\envs\\imageclass\\lib\\site-packages (from requests<3,>=2.21.0->tensorboard<2.11,>=2.10->tensorflow) (3.2.0)\n",
      "Requirement already satisfied: idna<4,>=2.5 in c:\\users\\madhushaprasad\\anaconda3\\envs\\imageclass\\lib\\site-packages (from requests<3,>=2.21.0->tensorboard<2.11,>=2.10->tensorflow) (3.4)\n",
      "Requirement already satisfied: certifi>=2017.4.17 in c:\\users\\madhushaprasad\\anaconda3\\envs\\imageclass\\lib\\site-packages (from requests<3,>=2.21.0->tensorboard<2.11,>=2.10->tensorflow) (2023.7.22)\n",
      "Requirement already satisfied: MarkupSafe>=2.1.1 in c:\\users\\madhushaprasad\\anaconda3\\envs\\imageclass\\lib\\site-packages (from werkzeug>=1.0.1->tensorboard<2.11,>=2.10->tensorflow) (2.1.3)\n",
      "Requirement already satisfied: pyasn1<0.6.0,>=0.4.6 in c:\\users\\madhushaprasad\\anaconda3\\envs\\imageclass\\lib\\site-packages (from pyasn1-modules>=0.2.1->google-auth<3,>=1.6.3->tensorboard<2.11,>=2.10->tensorflow) (0.5.0)\n",
      "Requirement already satisfied: oauthlib>=3.0.0 in c:\\users\\madhushaprasad\\anaconda3\\envs\\imageclass\\lib\\site-packages (from requests-oauthlib>=0.7.0->google-auth-oauthlib<0.5,>=0.4.1->tensorboard<2.11,>=2.10->tensorflow) (3.2.2)\n"
     ]
    }
   ],
   "source": [
    "!pip install tensorflow opencv-python matplotlib"
   ]
  },
  {
   "cell_type": "code",
   "execution_count": null,
   "id": "6482f55f-a00e-48b8-9961-e177c487a6fb",
   "metadata": {
    "tags": []
   },
   "outputs": [],
   "source": [
    "!pip list #check list agin"
   ]
  },
  {
   "cell_type": "code",
   "execution_count": 2,
   "id": "cb9aba78-c403-460c-ba1a-9e717600c056",
   "metadata": {
    "tags": []
   },
   "outputs": [],
   "source": [
    "import tensorflow as tf #import tensorflow as tf\n",
    "import os #import os"
   ]
  },
  {
   "cell_type": "code",
   "execution_count": 3,
   "id": "eb53815c-c7bf-4e6f-9126-3da6a7414c7a",
   "metadata": {
    "tags": []
   },
   "outputs": [],
   "source": [
    "# Avoid OOM errors by setting GPU Memory Consumption Growth\n",
    "gpuList = tf.config.experimental.list_physical_devices('GPU') # get all of physical GPU devices allowcated for tensaflow\n",
    "for gpu in gpuList: \n",
    "    tf.config.experimental.set_memory_growth(gpu, True) # limit the GPU memory growth getting one by one from gpu List"
   ]
  },
  {
   "cell_type": "code",
   "execution_count": 4,
   "id": "f9229609-f31b-46c6-8f6a-02af06dd3621",
   "metadata": {
    "tags": []
   },
   "outputs": [
    {
     "data": {
      "text/plain": [
       "[PhysicalDevice(name='/physical_device:GPU:0', device_type='GPU')]"
      ]
     },
     "execution_count": 4,
     "metadata": {},
     "output_type": "execute_result"
    }
   ],
   "source": [
    "tf.config.list_physical_devices('GPU') #check physical GPU devices"
   ]
  },
  {
   "cell_type": "markdown",
   "id": "0954553e-1335-4df5-8a54-6c4443d2eba2",
   "metadata": {},
   "source": [
    "# 2. Delete any questionable photos."
   ]
  },
  {
   "cell_type": "code",
   "execution_count": 5,
   "id": "a10ed408-1ba0-4cb3-87c6-684e52e10f98",
   "metadata": {
    "tags": []
   },
   "outputs": [],
   "source": [
    "import cv2\n",
    "import imghdr"
   ]
  },
  {
   "cell_type": "code",
   "execution_count": 6,
   "id": "907c94af-2f71-4531-87e6-b2192a4ea3e2",
   "metadata": {
    "tags": []
   },
   "outputs": [],
   "source": [
    "data_directory = '..\\data' #give path of data directory"
   ]
  },
  {
   "cell_type": "code",
   "execution_count": 7,
   "id": "6a3aeb41-0bfb-4ee8-83d8-ac60da7d3bf3",
   "metadata": {
    "tags": []
   },
   "outputs": [],
   "source": [
    "image_types = ['jpeg','jpg', 'bmp', 'png'] #store extentions of exist data types"
   ]
  },
  {
   "cell_type": "code",
   "execution_count": 9,
   "id": "5c463132-623d-4499-a85d-35cda2191c75",
   "metadata": {
    "tags": []
   },
   "outputs": [],
   "source": [
    "for image_class in os.listdir(data_directory): #get list of directories inside the data directory ex:-['happy','sad']\n",
    "    for image in os.listdir(os.path.join(data_directory, image_class)):#get every single image from data sub directories -> '../data/happy' -> 465464.png\n",
    "        image_path = os.path.join(data_directory, image_class, image)#create a new path for image inside of data sub directory \n",
    "        try: \n",
    "            img = cv2.imread(image_path)#loads an image from the specified file\n",
    "            tip = imghdr.what(image_path)\n",
    "            if tip not in image_types: \n",
    "                print('Image not in ext list {}'.format(image_path))\n",
    "                os.remove(image_path)# os will remove image from listed image path in here\n",
    "        except Exception as e: \n",
    "            print('Issue with image {}'.format(image_path))# if got an error exception will print it is as an issue"
   ]
  },
  {
   "cell_type": "markdown",
   "id": "9f0fdd21-4dfe-4d9d-affc-80559321d67f",
   "metadata": {},
   "source": [
    "# 3. Load Data"
   ]
  },
  {
   "cell_type": "code",
   "execution_count": null,
   "id": "43a80487-68ed-4322-af64-e196d45c4cac",
   "metadata": {
    "tags": []
   },
   "outputs": [],
   "source": [
    "import numpy as np #import numpy as np\n",
    "from matplotlib import pyplot as plt #import pyplot as plt"
   ]
  },
  {
   "cell_type": "code",
   "execution_count": null,
   "id": "676c90b1-7691-487c-ab32-b5a42b3e56cc",
   "metadata": {
    "tags": []
   },
   "outputs": [],
   "source": [
    "data = tf.keras.utils.image_dataset_from_directory(data_directory) #Generates a tf.data.Dataset from image files in a directory."
   ]
  },
  {
   "cell_type": "code",
   "execution_count": null,
   "id": "f6daf38d-ff89-4e4a-be81-7eb616fb49fb",
   "metadata": {
    "tags": []
   },
   "outputs": [],
   "source": [
    "data_iterator = data.as_numpy_iterator() #image_dataset_from_directory returns a Dataset object and get it as an as_numpy_iterator"
   ]
  },
  {
   "cell_type": "code",
   "execution_count": null,
   "id": "5faf0d0b-7d5a-49fc-a77d-77a00e858a1a",
   "metadata": {
    "tags": []
   },
   "outputs": [],
   "source": [
    "batch = data_iterator.next() #To get the next batch, and the next image"
   ]
  },
  {
   "cell_type": "code",
   "execution_count": null,
   "id": "45290729-3e8a-4e5d-a02e-1c5089e98bb6",
   "metadata": {
    "tags": []
   },
   "outputs": [],
   "source": [
    "batch[0].shape"
   ]
  },
  {
   "cell_type": "code",
   "execution_count": null,
   "id": "ca11866d-b1b3-4bb3-9efe-7f3ee23c2bce",
   "metadata": {
    "tags": []
   },
   "outputs": [],
   "source": [
    "# Class 0 - ANGRY\n",
    "# Class 1 - HAPPY\n",
    "# Class 2 - SAD\n",
    "batch[1]"
   ]
  },
  {
   "cell_type": "code",
   "execution_count": null,
   "id": "d0f5a275-d739-4193-b832-ea4b906c1a9b",
   "metadata": {
    "tags": []
   },
   "outputs": [],
   "source": [
    "fig, ax = plt.subplots(ncols=4, figsize=(20,20)) # create common layouts of subplots, including the enclosing figure object, in a single call.\n",
    "for idx, img in enumerate(batch[0][:4]):\n",
    "    ax[idx].imshow(img.astype(int))#do visualization in here\n",
    "    ax[idx].title.set_text(batch[1][idx])"
   ]
  },
  {
   "cell_type": "markdown",
   "id": "bfcfd709-eec9-4f5b-958b-f0254909ffa9",
   "metadata": {},
   "source": [
    "# 4. Scale Data"
   ]
  },
  {
   "cell_type": "code",
   "execution_count": null,
   "id": "d6d6e506-235e-4c76-881c-376108d3a797",
   "metadata": {
    "tags": []
   },
   "outputs": [],
   "source": [
    "data = data.map(lambda x,y: (x/255, y))#each element of this dataset, and returns a new dataset containing the transformed elements (adding 1 to each element, or projecting a subset of element components)"
   ]
  },
  {
   "cell_type": "code",
   "execution_count": null,
   "id": "a48e2481-ab2d-4558-9a26-75e70e454c66",
   "metadata": {
    "tags": []
   },
   "outputs": [],
   "source": [
    "data.as_numpy_iterator().next() #To get the next batch, and the next image"
   ]
  },
  {
   "cell_type": "code",
   "execution_count": null,
   "id": "96fb484a-2a89-4cf9-bbf9-338561ca5f6c",
   "metadata": {
    "tags": []
   },
   "outputs": [],
   "source": [
    "len(data)"
   ]
  },
  {
   "cell_type": "markdown",
   "id": "f7cdd250-ffb1-4c26-bf27-a30531c7d5ce",
   "metadata": {},
   "source": [
    "# 5. Split Data"
   ]
  },
  {
   "cell_type": "code",
   "execution_count": null,
   "id": "49cca9f6-b09f-4ec7-ac16-4cd769f95f27",
   "metadata": {
    "tags": []
   },
   "outputs": [],
   "source": [
    "\n",
    "train_size = int(len(data)*.7)\n",
    "val_size = int(len(data)*.2)\n",
    "test_size = int(len(data)*.1)"
   ]
  },
  {
   "cell_type": "markdown",
   "id": "382f8bf9-4314-4b92-8956-bbfb68fcd6b3",
   "metadata": {},
   "source": [
    "## train_size"
   ]
  },
  {
   "cell_type": "code",
   "execution_count": null,
   "id": "1fe932fb-3c99-4740-8634-d612f5de8af3",
   "metadata": {},
   "outputs": [],
   "source": []
  }
 ],
 "metadata": {
  "kernelspec": {
   "display_name": "imageclass",
   "language": "python",
   "name": "imageclass"
  },
  "language_info": {
   "codemirror_mode": {
    "name": "ipython",
    "version": 3
   },
   "file_extension": ".py",
   "mimetype": "text/x-python",
   "name": "python",
   "nbconvert_exporter": "python",
   "pygments_lexer": "ipython3",
   "version": "3.9.18"
  }
 },
 "nbformat": 4,
 "nbformat_minor": 5
}
